{
  "cells": [
    {
      "cell_type": "markdown",
      "metadata": {
        "colab_type": "text",
        "id": "view-in-github"
      },
      "source": [
        "<a href=\"https://colab.research.google.com/github/ykkim77/python-13th-week/blob/main/python_13th_week.ipynb\" target=\"_parent\"><img src=\"https://colab.research.google.com/assets/colab-badge.svg\" alt=\"Open In Colab\"/></a>"
      ]
    },
    {
      "cell_type": "markdown",
      "metadata": {
        "id": "_17Zhg4BXgzQ"
      },
      "source": [
        "# 단순 연결 리스트"
      ]
    },
    {
      "cell_type": "markdown",
      "metadata": {
        "id": "Q_jsQatEZHj0"
      },
      "source": [
        "## 단순 연결 리스트 핵심 코드 구현"
      ]
    },
    {
      "cell_type": "markdown",
      "metadata": {},
      "source": [
        "### 단순 연결리스트 정의"
      ]
    },
    {
      "cell_type": "code",
      "execution_count": 46,
      "metadata": {
        "id": "gJHLDQa3Xat-"
      },
      "outputs": [],
      "source": [
        "class Node() :\n",
        "\tdef __init__ (self) :\n",
        "\t\tself.data = None\n",
        "\t\tself.link = None"
      ]
    },
    {
      "cell_type": "markdown",
      "metadata": {
        "id": "3KOQIqLRZaed"
      },
      "source": [
        "- 첫번째 노드 생성"
      ]
    },
    {
      "cell_type": "code",
      "execution_count": 47,
      "metadata": {
        "id": "lDjoQ5CQZcKM"
      },
      "outputs": [],
      "source": [
        "node1 = Node()\n",
        "node1.data = \"서울\""
      ]
    },
    {
      "cell_type": "markdown",
      "metadata": {},
      "source": [
        "- 두번째 노드 생성"
      ]
    },
    {
      "cell_type": "code",
      "execution_count": 48,
      "metadata": {},
      "outputs": [],
      "source": [
        "node2 = Node()\n",
        "node2.data = \"대구\"\n",
        "node1.link = node2"
      ]
    },
    {
      "cell_type": "markdown",
      "metadata": {},
      "source": [
        "- 세번째 노드 생성"
      ]
    },
    {
      "cell_type": "code",
      "execution_count": 49,
      "metadata": {},
      "outputs": [],
      "source": [
        "node3 = Node()\n",
        "node3.data = \"부산\"\n",
        "node2.link = node3"
      ]
    },
    {
      "cell_type": "markdown",
      "metadata": {},
      "source": [
        "- 데이터가 3개인 단순 연결 리스트 출력"
      ]
    },
    {
      "cell_type": "code",
      "execution_count": 50,
      "metadata": {},
      "outputs": [
        {
          "name": "stdout",
          "output_type": "stream",
          "text": [
            "서울 대구 부산 "
          ]
        }
      ],
      "source": [
        "print(node1.data, end = ' ')\n",
        "print(node1.link.data, end = ' ')\n",
        "print(node1.link.link.data, end = ' ')"
      ]
    },
    {
      "cell_type": "markdown",
      "metadata": {},
      "source": [
        "- 단순 연결 리스트 출력 함수"
      ]
    },
    {
      "cell_type": "code",
      "execution_count": 51,
      "metadata": {},
      "outputs": [
        {
          "name": "stdout",
          "output_type": "stream",
          "text": [
            "서울 대구 부산 "
          ]
        }
      ],
      "source": [
        "current = node1    # current 노드 지정\n",
        "print(current.data, end = ' ')\n",
        "while current.link != None:     # current의 링크가 없을때 까지 반복\n",
        "    current = current.link             # 현재 노드의 다음노드가 current로 지정\n",
        "    print(current.data, end= ' ')  # current의 데이터 출력\n"
      ]
    },
    {
      "cell_type": "markdown",
      "metadata": {},
      "source": [
        "- 중간에 데이터 삽입"
      ]
    },
    {
      "cell_type": "code",
      "execution_count": 52,
      "metadata": {},
      "outputs": [],
      "source": [
        "head = node1\n",
        "current = head\n",
        "\n",
        "while current.link != None: \n",
        "    pre = current      # pre 노드를 한 칸씩 이동\n",
        "    current = current.link    # current 노드를 한 칸씩 이동\n",
        "    if current.data == '부산' :    # current 노드가 부산이라면~\n",
        "        node = Node()                  # 새로운 노드 생성\n",
        "        node.data = '포항'            # 새로운 노드의 데이터에 ‘포항’ 입력\n",
        "        node.link = current     # 새로운 노드의 링크는 current 노드를 가리킴\n",
        "        pre.link = node            # pre 노드의 링크는 새로운 노드를 가리킴   \n"
      ]
    },
    {
      "cell_type": "code",
      "execution_count": 53,
      "metadata": {},
      "outputs": [
        {
          "name": "stdout",
          "output_type": "stream",
          "text": [
            "포항 부산 "
          ]
        }
      ],
      "source": [
        "current = node    # current 노드 지정\n",
        "print(current.data, end = ' ')\n",
        "while current.link != None:     # current의 링크가 없을때 까지 반복\n",
        "    current = current.link             # 현재 노드의 다음노드가 current로 지정\n",
        "    print(current.data, end= ' ')  # current의 데이터 출력\n"
      ]
    },
    {
      "cell_type": "markdown",
      "metadata": {},
      "source": [
        "- 첫번째 자리에 데이터 삽입"
      ]
    },
    {
      "cell_type": "code",
      "execution_count": 54,
      "metadata": {},
      "outputs": [],
      "source": [
        "newNode = Node()\n",
        "newNode.data = '파주'\n",
        "newNode.link = head\n",
        "head = newNode\n"
      ]
    },
    {
      "cell_type": "code",
      "execution_count": 55,
      "metadata": {},
      "outputs": [
        {
          "name": "stdout",
          "output_type": "stream",
          "text": [
            "파주 서울 대구 포항 부산 "
          ]
        }
      ],
      "source": [
        "current = head    # current 노드 지정\n",
        "print(current.data, end = ' ')\n",
        "while current.link != None:     # current의 링크가 없을때 까지 반복\n",
        "    current = current.link             # 현재 노드의 다음노드가 current로 지정\n",
        "    print(current.data, end= ' ')  # current의 데이터 출력"
      ]
    },
    {
      "cell_type": "markdown",
      "metadata": {},
      "source": [
        "- 마지막 자리에 데이터 삽입"
      ]
    },
    {
      "cell_type": "code",
      "execution_count": 56,
      "metadata": {},
      "outputs": [],
      "source": [
        "current = head\n",
        "while current.link != None:     # current의 링크가 없을때 까지 반복\n",
        "    current = current.link             # 현재 노드의 다음노드가 current로 지정\n",
        "\n",
        "node = Node()\n",
        "node.data = \"제주\"\n",
        "current.link = node"
      ]
    },
    {
      "cell_type": "code",
      "execution_count": 57,
      "metadata": {},
      "outputs": [
        {
          "name": "stdout",
          "output_type": "stream",
          "text": [
            "파주 서울 대구 포항 부산 제주 "
          ]
        }
      ],
      "source": [
        "current = head    # current 노드 지정\n",
        "print(current.data, end = ' ')\n",
        "while current.link != None:     # current의 링크가 없을때 까지 반복\n",
        "    current = current.link             # 현재 노드의 다음노드가 current로 지정\n",
        "    print(current.data, end= ' ')  # current의 데이터 출력"
      ]
    },
    {
      "cell_type": "markdown",
      "metadata": {},
      "source": [
        "- 데이터 삭제 : 첫번째 노드 삭제"
      ]
    },
    {
      "cell_type": "code",
      "execution_count": 58,
      "metadata": {},
      "outputs": [],
      "source": [
        "current = head\n",
        "head = head.link\n",
        "del(current)"
      ]
    },
    {
      "cell_type": "code",
      "execution_count": 61,
      "metadata": {},
      "outputs": [
        {
          "name": "stdout",
          "output_type": "stream",
          "text": [
            "서울 포항 부산 제주 "
          ]
        }
      ],
      "source": [
        "current = head    # current 노드 지정\n",
        "print(current.data, end = ' ')\n",
        "while current.link != None:     # current의 링크가 없을때 까지 반복\n",
        "    current = current.link             # 현재 노드의 다음노드가 current로 지정\n",
        "    print(current.data, end= ' ')  # current의 데이터 출력"
      ]
    },
    {
      "cell_type": "markdown",
      "metadata": {},
      "source": [
        "- 첫번째 노드 외 삭제"
      ]
    },
    {
      "cell_type": "code",
      "execution_count": 64,
      "metadata": {},
      "outputs": [],
      "source": [
        "current = head\n",
        "\n",
        "while current.link != None:\n",
        "    pre = current\n",
        "    current = current.link\n",
        "    if current.data == \"대구\":\n",
        "        pre.link = current.link\n",
        "        del(current)"
      ]
    },
    {
      "cell_type": "code",
      "execution_count": 63,
      "metadata": {},
      "outputs": [
        {
          "name": "stdout",
          "output_type": "stream",
          "text": [
            "서울 포항 부산 제주 "
          ]
        }
      ],
      "source": [
        "current = head    # current 노드 지정\n",
        "print(current.data, end = ' ')\n",
        "while current.link != None:     # current의 링크가 없을때 까지 반복\n",
        "    current = current.link             # 현재 노드의 다음노드가 current로 지정\n",
        "    print(current.data, end= ' ')  # current의 데이터 출력"
      ]
    },
    {
      "cell_type": "markdown",
      "metadata": {},
      "source": [
        "- 데이터 검색 구현"
      ]
    },
    {
      "cell_type": "code",
      "execution_count": 65,
      "metadata": {},
      "outputs": [
        {
          "name": "stdout",
          "output_type": "stream",
          "text": [
            "부산\n"
          ]
        }
      ],
      "source": [
        "current = head\n",
        "if current.data == '부산':\n",
        "    print(current.data)\n",
        "while current.link !=None:\n",
        "    current = current.link\n",
        "    if current.data == '부산':\n",
        "        print(current.data)\n"
      ]
    },
    {
      "cell_type": "code",
      "execution_count": 66,
      "metadata": {},
      "outputs": [],
      "source": [
        "del(head)\n",
        "del(current)\n",
        "del(pre)"
      ]
    },
    {
      "cell_type": "markdown",
      "metadata": {},
      "source": [
        "- 연결 리스트를 함수로 구현하기"
      ]
    },
    {
      "cell_type": "code",
      "execution_count": 43,
      "metadata": {},
      "outputs": [],
      "source": [
        "class Node() :\n",
        "\tdef __init__ (self) :\n",
        "\t\tself.data = None\n",
        "\t\tself.link = None\n",
        "\n",
        "def printNodes(start) :\n",
        "\tcurrent = start\n",
        "\tif current == None :\n",
        "\t\treturn\n",
        "\tprint(current.data, end = ' ')\n",
        "\twhile current.link != None:\n",
        "\t\tcurrent = current.link\n",
        "\t\tprint(current.data, end = ' ')\n",
        "\tprint()\n",
        "\n",
        "def insertNode(findData, insertData) :\n",
        "\tglobal memory, head, current, pre\n",
        "\tif head.data == findData :      # 첫 번째 노드 삽입\n",
        "\t\tnode = Node()\n",
        "\t\tnode.data = insertData\n",
        "\t\tnode.link = head\n",
        "\t\thead = node\n",
        "\t\treturn\n",
        "\n",
        "\tcurrent = head\n",
        "\twhile current.link != None :    # 중간 노드 삽입\n",
        "\t\tpre = current\n",
        "\t\tcurrent = current.link\n",
        "\t\tif current.data == findData :\n",
        "\t\t\tnode = Node()\n",
        "\t\t\tnode.data = insertData\n",
        "\t\t\tnode.link = current\n",
        "\t\t\tpre.link = node\n",
        "\t\t\treturn\n",
        "\n",
        "\tnode = Node()                   # 마지막 노드 삽입\n",
        "\tnode.data = insertData\n",
        "\tcurrent.link = node\n",
        "\n",
        "def findNode(findData) :\n",
        "\tglobal memory, head, current, pre\n",
        "\n",
        "\tcurrent = head\n",
        "\tif current.data == findData :\n",
        "\t\treturn current\n",
        "\twhile current.link != None :\n",
        "\t\tcurrent = current.link\n",
        "\t\tif current.data == findData :\n",
        "\t\t\treturn current\n",
        "\treturn Node()\t# 빈 노드 반환\n",
        "\n",
        "def deleteNode(deleteData) :\n",
        "\tglobal memory, head, current, pre\n",
        "\n",
        "\tif head.data == deleteData :         # 첫 번째 노드 삭제\n",
        "\t\tcurrent = head\n",
        "\t\thead = head.link\n",
        "\t\tdel(current)\n",
        "\t\treturn\n",
        "\n",
        "\tcurrent = head                          # 첫 번째  외 노드 삭제\n",
        "\twhile current.link != None :\n",
        "\t\tpre = current\n",
        "\t\tcurrent = current.link\n",
        "\t\tif current.data == deleteData :\n",
        "\t\t\tpre.link = current.link\n",
        "\t\t\tdel(current)\n",
        "\t\t\treturn"
      ]
    },
    {
      "cell_type": "code",
      "execution_count": 45,
      "metadata": {},
      "outputs": [
        {
          "name": "stdout",
          "output_type": "stream",
          "text": [
            "서울 대전 부산 \n",
            "파주 서울 천안 대전 부산 \n"
          ]
        }
      ],
      "source": [
        "head, current, pre = None, None, None\n",
        "memory = []\n",
        "dataArray = [\"서울\", \"대전\", \"부산\"]\n",
        "\n",
        "node = Node()\t\t\t# 첫 번째 노드\n",
        "node.data = dataArray[0]\n",
        "head = node\n",
        "memory.append(node)\n",
        "\n",
        "\n",
        "for data in dataArray[1:] :\t\t# 두 번째 노드부터\n",
        "    pre = node\n",
        "    node = Node()\n",
        "    node.data = data\n",
        "    pre.link = node\n",
        "    memory.append(node)\n",
        "\n",
        "\n",
        "printNodes(head)\n",
        "findNode('대전')\n",
        "insertNode('대전','천안')\n",
        "insertNode('서울','파주')\n",
        "deleteNode()\n",
        "printNodes(head)\n",
        "# deleteNode('서울')\n"
      ]
    },
    {
      "cell_type": "code",
      "execution_count": 42,
      "metadata": {},
      "outputs": [
        {
          "name": "stdout",
          "output_type": "stream",
          "text": [
            "20\n",
            "this is var in test function 20\n"
          ]
        }
      ],
      "source": [
        "def test():\n",
        "    \n",
        "    print(\"this is var in test function\",var)\n",
        "\n",
        "var = 20\n",
        "print(var)\n",
        "test()"
      ]
    }
  ],
  "metadata": {
    "colab": {
      "authorship_tag": "ABX9TyNfYEYHL4wCNbBmxfR+rFfd",
      "collapsed_sections": [],
      "include_colab_link": true,
      "name": "python-13th-week.ipynb",
      "provenance": []
    },
    "kernelspec": {
      "display_name": "Python 3",
      "name": "python3"
    },
    "language_info": {
      "codemirror_mode": {
        "name": "ipython",
        "version": 3
      },
      "file_extension": ".py",
      "mimetype": "text/x-python",
      "name": "python",
      "nbconvert_exporter": "python",
      "pygments_lexer": "ipython3",
      "version": "3.9.4"
    }
  },
  "nbformat": 4,
  "nbformat_minor": 0
}
