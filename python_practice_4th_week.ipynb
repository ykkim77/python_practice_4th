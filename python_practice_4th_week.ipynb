{
  "cells": [
    {
      "cell_type": "markdown",
      "metadata": {
        "id": "view-in-github",
        "colab_type": "text"
      },
      "source": [
        "<a href=\"https://colab.research.google.com/github/ykkim77/python_practice_4th/blob/main/python_practice_4th_week.ipynb\" target=\"_parent\"><img src=\"https://colab.research.google.com/assets/colab-badge.svg\" alt=\"Open In Colab\"/></a>"
      ]
    },
    {
      "cell_type": "markdown",
      "metadata": {
        "id": "_17Zhg4BXgzQ"
      },
      "source": [
        "# 단순 연결 리스트"
      ]
    },
    {
      "cell_type": "markdown",
      "metadata": {
        "id": "Q_jsQatEZHj0"
      },
      "source": [
        "## 단순 연결 리스트 핵심 코드 구현"
      ]
    },
    {
      "cell_type": "markdown",
      "metadata": {
        "id": "ml_WIVw9Lgjf"
      },
      "source": [
        "### 단순 연결리스트 정의"
      ]
    },
    {
      "cell_type": "code",
      "execution_count": null,
      "metadata": {
        "id": "gJHLDQa3Xat-"
      },
      "outputs": [],
      "source": [
        "class Node() :\n",
        "\tdef __init__ (self) :\n",
        "\t\tself.data = None\n",
        "\t\tself.link = None"
      ]
    },
    {
      "cell_type": "markdown",
      "metadata": {
        "id": "3KOQIqLRZaed"
      },
      "source": [
        "- 첫번째 노드 생성"
      ]
    },
    {
      "cell_type": "code",
      "execution_count": null,
      "metadata": {
        "id": "lDjoQ5CQZcKM"
      },
      "outputs": [],
      "source": [
        "node1 = Node()\n",
        "node1.data = \"서울\""
      ]
    },
    {
      "cell_type": "markdown",
      "metadata": {
        "id": "kRrMUkPoLgjh"
      },
      "source": [
        "- 두번째 노드 생성"
      ]
    },
    {
      "cell_type": "code",
      "execution_count": null,
      "metadata": {
        "id": "Pna4dBR5Lgji"
      },
      "outputs": [],
      "source": [
        "node2 = Node()\n",
        "node2.data = \"대구\"\n",
        "node1.link = node2"
      ]
    },
    {
      "cell_type": "markdown",
      "metadata": {
        "id": "eTHDrdrBLgji"
      },
      "source": [
        "- 세번째 노드 생성"
      ]
    },
    {
      "cell_type": "code",
      "execution_count": null,
      "metadata": {
        "id": "Hd7H6NJOLgjj"
      },
      "outputs": [],
      "source": [
        "node3 = Node()\n",
        "node3.data = \"부산\"\n",
        "node2.link = node3"
      ]
    },
    {
      "cell_type": "markdown",
      "metadata": {
        "id": "LgfDWQlaLgjj"
      },
      "source": [
        "- 데이터가 3개인 단순 연결 리스트 출력"
      ]
    },
    {
      "cell_type": "code",
      "execution_count": null,
      "metadata": {
        "id": "nQUjldUrLgjk",
        "outputId": "9bca463e-0a6b-4f60-cdc9-ed6c93e8fb19",
        "colab": {
          "base_uri": "https://localhost:8080/"
        }
      },
      "outputs": [
        {
          "output_type": "stream",
          "name": "stdout",
          "text": [
            "서울 대구 부산 "
          ]
        }
      ],
      "source": [
        "print(node1.data, end = ' ')\n",
        "print(node1.link.data, end = ' ')\n",
        "print(node1.link.link.data, end = ' ')"
      ]
    },
    {
      "cell_type": "markdown",
      "metadata": {
        "id": "-vsjDOtELgjk"
      },
      "source": [
        "- 단순 연결 리스트 출력"
      ]
    },
    {
      "cell_type": "code",
      "execution_count": null,
      "metadata": {
        "id": "J21RItedLgjl",
        "outputId": "381a8a7b-b50f-4a3e-e056-55cb85bb647a",
        "colab": {
          "base_uri": "https://localhost:8080/"
        }
      },
      "outputs": [
        {
          "output_type": "stream",
          "name": "stdout",
          "text": [
            "서울 대구 부산 "
          ]
        }
      ],
      "source": [
        "current = node1    # current 노드 지정\n",
        "print(current.data, end = ' ')\n",
        "while current.link != None:     # current의 링크가 없을때 까지 반복\n",
        "    current = current.link             # 현재 노드의 다음노드가 current로 지정\n",
        "    print(current.data, end= ' ')  # current의 데이터 출력\n"
      ]
    },
    {
      "cell_type": "markdown",
      "metadata": {
        "id": "Ex0nxU29Lgjl"
      },
      "source": [
        "- 중간에 데이터 삽입"
      ]
    },
    {
      "cell_type": "code",
      "execution_count": null,
      "metadata": {
        "id": "tEGvBaEKLgjl"
      },
      "outputs": [],
      "source": [
        "head = node1\n",
        "current = head\n",
        "\n",
        "while current.link != None: \n",
        "    pre = current      # pre 노드를 한 칸씩 이동\n",
        "    current = current.link    # current 노드를 한 칸씩 이동\n",
        "    if current.data == '부산' :    # current 노드가 부산이라면~\n",
        "        node = Node()                  # 새로운 노드 생성\n",
        "        node.data = '포항'            # 새로운 노드의 데이터에 ‘포항’ 입력\n",
        "        node.link = current     # 새로운 노드의 링크는 current 노드를 가리킴\n",
        "        pre.link = node            # pre 노드의 링크는 새로운 노드를 가리킴   \n"
      ]
    },
    {
      "cell_type": "code",
      "execution_count": null,
      "metadata": {
        "id": "8SULEc5PLgjm",
        "outputId": "510f1cbd-9e48-4d39-d2c0-2d3488175a93",
        "colab": {
          "base_uri": "https://localhost:8080/"
        }
      },
      "outputs": [
        {
          "output_type": "stream",
          "name": "stdout",
          "text": [
            "서울 대구 포항 부산 "
          ]
        }
      ],
      "source": [
        "current = head   # current 노드 지정\n",
        "print(current.data, end = ' ')\n",
        "while current.link != None:     # current의 링크가 없을때 까지 반복\n",
        "    current = current.link             # 현재 노드의 다음노드가 current로 지정\n",
        "    print(current.data, end= ' ')  # current의 데이터 출력\n"
      ]
    },
    {
      "cell_type": "markdown",
      "metadata": {
        "id": "nulkPtJILgjm"
      },
      "source": [
        "- 첫번째 자리에 데이터 삽입"
      ]
    },
    {
      "cell_type": "code",
      "execution_count": null,
      "metadata": {
        "id": "XI-wgHWMLgjm"
      },
      "outputs": [],
      "source": [
        "newNode = Node()\n",
        "newNode.data = '파주'\n",
        "newNode.link = head\n",
        "head = newNode\n"
      ]
    },
    {
      "cell_type": "code",
      "execution_count": null,
      "metadata": {
        "id": "2cRfORi-Lgjm",
        "outputId": "c6397ab5-dacb-449f-d83e-17062c9c5eac",
        "colab": {
          "base_uri": "https://localhost:8080/"
        }
      },
      "outputs": [
        {
          "output_type": "stream",
          "name": "stdout",
          "text": [
            "파주 서울 대구 포항 부산 "
          ]
        }
      ],
      "source": [
        "current = head    # current 노드 지정\n",
        "print(current.data, end = ' ')\n",
        "while current.link != None:     # current의 링크가 없을때 까지 반복\n",
        "    current = current.link             # 현재 노드의 다음노드가 current로 지정\n",
        "    print(current.data, end= ' ')  # current의 데이터 출력"
      ]
    },
    {
      "cell_type": "markdown",
      "metadata": {
        "id": "RkqYInhJLgjn"
      },
      "source": [
        "- 마지막 자리에 데이터 삽입"
      ]
    },
    {
      "cell_type": "code",
      "execution_count": null,
      "metadata": {
        "id": "t0auqNSTLgjn"
      },
      "outputs": [],
      "source": [
        "current = head\n",
        "while current.link != None:     # current의 링크가 없을때 까지 반복\n",
        "    current = current.link             # 현재 노드의 다음노드가 current로 지정\n",
        "\n",
        "node = Node()\n",
        "node.data = \"제주\"\n",
        "current.link = node"
      ]
    },
    {
      "cell_type": "code",
      "execution_count": null,
      "metadata": {
        "id": "h4h_lfuvLgjn",
        "outputId": "3655dcfd-175b-44cc-a9ce-a3652c3ff26d",
        "colab": {
          "base_uri": "https://localhost:8080/"
        }
      },
      "outputs": [
        {
          "output_type": "stream",
          "name": "stdout",
          "text": [
            "파주 서울 대구 포항 부산 제주 "
          ]
        }
      ],
      "source": [
        "current = head    # current 노드 지정\n",
        "print(current.data, end = ' ')\n",
        "while current.link != None:     # current의 링크가 없을때 까지 반복\n",
        "    current = current.link             # 현재 노드의 다음노드가 current로 지정\n",
        "    print(current.data, end= ' ')  # current의 데이터 출력"
      ]
    },
    {
      "cell_type": "markdown",
      "metadata": {
        "id": "5Re2ikW9Lgjn"
      },
      "source": [
        "- 데이터 삭제 : 첫번째 노드 삭제"
      ]
    },
    {
      "cell_type": "code",
      "execution_count": null,
      "metadata": {
        "id": "3a0d4K5VLgjn"
      },
      "outputs": [],
      "source": [
        "current = head\n",
        "head = head.link\n",
        "del(current)"
      ]
    },
    {
      "cell_type": "code",
      "execution_count": null,
      "metadata": {
        "id": "I47V5QvmLgjo",
        "outputId": "9c17df41-05e3-478d-8e7a-29c509385cec",
        "colab": {
          "base_uri": "https://localhost:8080/"
        }
      },
      "outputs": [
        {
          "output_type": "stream",
          "name": "stdout",
          "text": [
            "서울 대구 포항 부산 제주 "
          ]
        }
      ],
      "source": [
        "current = head    # current 노드 지정\n",
        "print(current.data, end = ' ')\n",
        "while current.link != None:     # current의 링크가 없을때 까지 반복\n",
        "    current = current.link             # 현재 노드의 다음노드가 current로 지정\n",
        "    print(current.data, end= ' ')  # current의 데이터 출력"
      ]
    },
    {
      "cell_type": "code",
      "source": [
        "print(current.data)\n",
        "print(head.data)"
      ],
      "metadata": {
        "colab": {
          "base_uri": "https://localhost:8080/"
        },
        "id": "0WVsA9wj9eM1",
        "outputId": "7880dd0d-54f7-45c0-cc6f-97b34831911b"
      },
      "execution_count": null,
      "outputs": [
        {
          "output_type": "stream",
          "name": "stdout",
          "text": [
            "제주\n",
            "서울\n"
          ]
        }
      ]
    },
    {
      "cell_type": "markdown",
      "metadata": {
        "id": "v3SD072QLgjo"
      },
      "source": [
        "- 첫번째 노드 외 삭제"
      ]
    },
    {
      "cell_type": "code",
      "execution_count": null,
      "metadata": {
        "id": "PBCIsvXwLgjo"
      },
      "outputs": [],
      "source": [
        "current = head\n",
        "\n"
      ]
    },
    {
      "cell_type": "code",
      "source": [
        "print(current.data)\n",
        "print(current.link)"
      ],
      "metadata": {
        "colab": {
          "base_uri": "https://localhost:8080/"
        },
        "id": "qh42SaEq9mOS",
        "outputId": "a3fd1e36-8bf3-4572-cf43-deb088b59c31"
      },
      "execution_count": null,
      "outputs": [
        {
          "output_type": "stream",
          "name": "stdout",
          "text": [
            "서울\n",
            "<__main__.Node object at 0x7f3042caee50>\n"
          ]
        }
      ]
    },
    {
      "cell_type": "code",
      "source": [
        "while current.link != None:\n",
        "    pre = current\n",
        "    current = current.link\n",
        "    if current.data == \"대구\":\n",
        "        pre.link = current.link\n",
        "        del(current)\n",
        "        break"
      ],
      "metadata": {
        "id": "bTC96Kky9Rzz"
      },
      "execution_count": null,
      "outputs": []
    },
    {
      "cell_type": "code",
      "execution_count": null,
      "metadata": {
        "id": "rQx7P20YLgjo",
        "outputId": "343b6801-6bfa-427f-a7b9-7a5637ba6df2",
        "colab": {
          "base_uri": "https://localhost:8080/"
        }
      },
      "outputs": [
        {
          "output_type": "stream",
          "name": "stdout",
          "text": [
            "current =  <__main__.Node object at 0x7f304019ed90>\n",
            "current =  <__main__.Node object at 0x7f304019ed90>\n",
            "서울 포항 부산 제주 "
          ]
        }
      ],
      "source": [
        "current = head\n",
        "print(\"current = \", current)\n",
        "print(\"current = \", current)\n",
        "print(current.data, end = ' ')\n",
        "while current.link != None:     # current의 링크가 없을때 까지 반복\n",
        "    current = current.link             # 현재 노드의 다음노드가 current로 지정\n",
        "    print(current.data, end= ' ')  # current의 데이터 출력"
      ]
    },
    {
      "cell_type": "markdown",
      "metadata": {
        "id": "7lc9w2MNLgjo"
      },
      "source": [
        "- 데이터 검색 구현"
      ]
    },
    {
      "cell_type": "code",
      "execution_count": null,
      "metadata": {
        "id": "ttL4C2rWLgjp"
      },
      "outputs": [],
      "source": [
        "current = head\n",
        "if current.data == '대구':\n",
        "    print(current.data)\n",
        "while current.link !=None:\n",
        "    current = current.link\n",
        "    if current.data == '대구':\n",
        "        print(current.data)\n"
      ]
    },
    {
      "cell_type": "markdown",
      "metadata": {
        "id": "-QU58bshLgjp"
      },
      "source": [
        "- 연결 리스트를 함수로 구현하기"
      ]
    },
    {
      "cell_type": "code",
      "execution_count": null,
      "metadata": {
        "id": "ZBp_IIwPLgjp"
      },
      "outputs": [],
      "source": [
        "\n",
        "\n",
        "class Node() :\n",
        "\tdef __init__ (self) :\n",
        "\t\tself.data = None\n",
        "\t\tself.link = None\n",
        "\n",
        "def printNodes(start) :\n",
        "\tcurrent = start\n",
        "\tif current == None :\n",
        "\t\treturn\n",
        "\tprint(current.data, end = ' ')\n",
        "\twhile current.link != None:\n",
        "\t\tcurrent = current.link\n",
        "\t\tprint(current.data, end = ' ')\n",
        "\tprint()\n",
        "\n",
        "def insertNode(findData, insertData) :\n",
        "\tglobal memory, head, current, pre\n",
        "\tif head.data == findData :      # 첫 번째 노드 삽입\n",
        "\t\tnode = Node()\n",
        "\t\tnode.data = insertData\n",
        "\t\tnode.link = head\n",
        "\t\thead = node\n",
        "\t\treturn\n",
        "\n",
        "\tcurrent = head\n",
        "\twhile current.link != None :    # 중간 노드 삽입\n",
        "\t\tpre = current\n",
        "\t\tcurrent = current.link\n",
        "\t\tif current.data == findData :\n",
        "\t\t\tnode = Node()\n",
        "\t\t\tnode.data = insertData\n",
        "\t\t\tnode.link = current\n",
        "\t\t\tpre.link = node\n",
        "\t\t\treturn\n",
        "\n",
        "\tnode = Node()                   # 마지막 노드 삽입\n",
        "\tnode.data = insertData\n",
        "\tcurrent.link = node\n",
        "\n",
        "def findNode(findData) :\n",
        "\tglobal memory, head, current, pre\n",
        "\n",
        "\tcurrent = head\n",
        "\tif current.data == findData :\n",
        "\t\treturn current\n",
        "\twhile current.link != None :\n",
        "\t\tcurrent = current.link\n",
        "\t\tif current.data == findData :\n",
        "\t\t\treturn current\n",
        "\treturn Node()\t# 빈 노드 반환\n",
        "\n",
        "def deleteNode(deleteData) :\n",
        "\tglobal memory, head, current, pre\n",
        "\n",
        "\tif head.data == deleteData :         # 첫 번째 노드 삭제\n",
        "\t\tcurrent = head\n",
        "\t\thead = head.link\n",
        "\t\tdel(current)\n",
        "\t\treturn\n",
        "\n",
        "\tcurrent = head                          # 첫 번째  외 노드 삭제\n",
        "\twhile current.link != None :\n",
        "\t\tpre = current\n",
        "\t\tcurrent = current.link\n",
        "\t\tif current.data == deleteData :\n",
        "\t\t\tpre.link = current.link\n",
        "\t\t\tdel(current)\n",
        "\t\t\treturn"
      ]
    },
    {
      "cell_type": "code",
      "execution_count": null,
      "metadata": {
        "id": "8s7R92RSLgjp"
      },
      "outputs": [],
      "source": [
        "head, current, pre = None, None, None\n",
        "memory = []\n",
        "dataArray = [\"서울\", \"대전\", \"부산\"]\n",
        "\n",
        "node = Node()\t\t\t# 첫 번째 노드\n",
        "node.data = dataArray[0]\n",
        "head = node\n",
        "memory.append(node)\n",
        "\n",
        "\n",
        "for data in dataArray[1:] :\t\t# 두 번째 노드부터\n",
        "    pre = node\n",
        "    node = Node()\n",
        "    node.data = data\n",
        "    pre.link = node\n",
        "    memory.append(node)\n",
        "\n",
        "\n",
        "printNodes(head)\n",
        "insertNode('대전','천안')\n",
        "insertNode('서울','파주')\n",
        "printNodes(head)\n",
        "\n",
        "\n"
      ]
    },
    {
      "cell_type": "code",
      "source": [
        "deleteNode('천안')\n",
        "printNodes(head)"
      ],
      "metadata": {
        "id": "USNNcxXdVvuS"
      },
      "execution_count": null,
      "outputs": []
    }
  ],
  "metadata": {
    "colab": {
      "provenance": [],
      "include_colab_link": true
    },
    "kernelspec": {
      "display_name": "Python 3",
      "name": "python3"
    },
    "language_info": {
      "codemirror_mode": {
        "name": "ipython",
        "version": 3
      },
      "file_extension": ".py",
      "mimetype": "text/x-python",
      "name": "python",
      "nbconvert_exporter": "python",
      "pygments_lexer": "ipython3",
      "version": "3.9.4"
    }
  },
  "nbformat": 4,
  "nbformat_minor": 0
}