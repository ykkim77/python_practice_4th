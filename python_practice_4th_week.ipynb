{
  "cells": [
    {
      "cell_type": "markdown",
      "metadata": {
        "id": "view-in-github",
        "colab_type": "text"
      },
      "source": [
        "<a href=\"https://colab.research.google.com/github/ykkim77/python_practice_4th/blob/main/python_practice_4th_week.ipynb\" target=\"_parent\"><img src=\"https://colab.research.google.com/assets/colab-badge.svg\" alt=\"Open In Colab\"/></a>"
      ]
    },
    {
      "cell_type": "markdown",
      "metadata": {
        "id": "_17Zhg4BXgzQ"
      },
      "source": [
        "# 단순 연결 리스트"
      ]
    },
    {
      "cell_type": "markdown",
      "metadata": {
        "id": "Q_jsQatEZHj0"
      },
      "source": [
        "## 단순 연결 리스트 핵심 코드 구현"
      ]
    },
    {
      "cell_type": "markdown",
      "metadata": {
        "id": "ml_WIVw9Lgjf"
      },
      "source": [
        "### 단순 연결리스트 정의"
      ]
    },
    {
      "cell_type": "code",
      "execution_count": 58,
      "metadata": {
        "id": "gJHLDQa3Xat-"
      },
      "outputs": [],
      "source": [
        "class Node() :\n",
        "\tdef __init__ (self) :\n",
        "\t\tself.data = None\n",
        "\t\tself.link = None"
      ]
    },
    {
      "cell_type": "markdown",
      "metadata": {
        "id": "3KOQIqLRZaed"
      },
      "source": [
        "- 첫번째 노드 생성"
      ]
    },
    {
      "cell_type": "code",
      "execution_count": 59,
      "metadata": {
        "id": "lDjoQ5CQZcKM"
      },
      "outputs": [],
      "source": [
        "node1 = Node()\n",
        "node1.data = \"서울\""
      ]
    },
    {
      "cell_type": "markdown",
      "metadata": {
        "id": "kRrMUkPoLgjh"
      },
      "source": [
        "- 두번째 노드 생성"
      ]
    },
    {
      "cell_type": "code",
      "execution_count": 60,
      "metadata": {
        "id": "Pna4dBR5Lgji"
      },
      "outputs": [],
      "source": [
        "node2 = Node()\n",
        "node2.data = \"대구\"\n",
        "node1.link = node2"
      ]
    },
    {
      "cell_type": "markdown",
      "metadata": {
        "id": "eTHDrdrBLgji"
      },
      "source": [
        "- 세번째 노드 생성"
      ]
    },
    {
      "cell_type": "code",
      "execution_count": 61,
      "metadata": {
        "id": "Hd7H6NJOLgjj"
      },
      "outputs": [],
      "source": [
        "node3 = Node()\n",
        "node3.data = \"부산\"\n",
        "node2.link = node3"
      ]
    },
    {
      "cell_type": "markdown",
      "metadata": {
        "id": "LgfDWQlaLgjj"
      },
      "source": [
        "- 데이터가 3개인 단순 연결 리스트 출력"
      ]
    },
    {
      "cell_type": "code",
      "execution_count": 62,
      "metadata": {
        "id": "nQUjldUrLgjk",
        "outputId": "c256e15f-d6de-4ae9-8c7f-a3521d9dda69",
        "colab": {
          "base_uri": "https://localhost:8080/"
        }
      },
      "outputs": [
        {
          "output_type": "stream",
          "name": "stdout",
          "text": [
            "서울 대구 부산 "
          ]
        }
      ],
      "source": [
        "print(node1.data, end = ' ')\n",
        "print(node1.link.data, end = ' ')\n",
        "print(node1.link.link.data, end = ' ')"
      ]
    },
    {
      "cell_type": "markdown",
      "metadata": {
        "id": "-vsjDOtELgjk"
      },
      "source": [
        "- 단순 연결 리스트 출력"
      ]
    },
    {
      "cell_type": "code",
      "execution_count": 63,
      "metadata": {
        "id": "J21RItedLgjl",
        "outputId": "8588887b-2a95-4a70-ec26-c6dcfd77df31",
        "colab": {
          "base_uri": "https://localhost:8080/"
        }
      },
      "outputs": [
        {
          "output_type": "stream",
          "name": "stdout",
          "text": [
            "서울 대구 부산 "
          ]
        }
      ],
      "source": [
        "current = node1    # current 노드 지정\n",
        "print(current.data, end = ' ')\n",
        "while current.link != None:     # current의 링크가 없을때 까지 반복\n",
        "    current = current.link             # 현재 노드의 다음노드가 current로 지정\n",
        "    print(current.data, end= ' ')  # current의 데이터 출력\n"
      ]
    },
    {
      "cell_type": "markdown",
      "metadata": {
        "id": "Ex0nxU29Lgjl"
      },
      "source": [
        "- 중간에 데이터 삽입"
      ]
    },
    {
      "cell_type": "code",
      "execution_count": 64,
      "metadata": {
        "id": "tEGvBaEKLgjl"
      },
      "outputs": [],
      "source": [
        "head = node1\n",
        "current = head\n",
        "\n",
        "while current.link != None: \n",
        "    pre = current      # pre 노드를 한 칸씩 이동\n",
        "    current = current.link    # current 노드를 한 칸씩 이동\n",
        "    if current.data == '부산' :    # current 노드가 부산이라면~\n",
        "        node = Node()                  # 새로운 노드 생성\n",
        "        node.data = '포항'            # 새로운 노드의 데이터에 ‘포항’ 입력\n",
        "        node.link = current     # 새로운 노드의 링크는 current 노드를 가리킴\n",
        "        pre.link = node            # pre 노드의 링크는 새로운 노드를 가리킴   \n"
      ]
    },
    {
      "cell_type": "code",
      "execution_count": 65,
      "metadata": {
        "id": "8SULEc5PLgjm",
        "outputId": "ede14410-4039-4050-d7fd-16d6b203c2e5",
        "colab": {
          "base_uri": "https://localhost:8080/"
        }
      },
      "outputs": [
        {
          "output_type": "stream",
          "name": "stdout",
          "text": [
            "서울 대구 포항 부산 "
          ]
        }
      ],
      "source": [
        "current = head   # current 노드 지정\n",
        "print(current.data, end = ' ')\n",
        "while current.link != None:     # current의 링크가 없을때 까지 반복\n",
        "    current = current.link             # 현재 노드의 다음노드가 current로 지정\n",
        "    print(current.data, end= ' ')  # current의 데이터 출력\n"
      ]
    },
    {
      "cell_type": "markdown",
      "metadata": {
        "id": "nulkPtJILgjm"
      },
      "source": [
        "- 첫번째 자리에 데이터 삽입"
      ]
    },
    {
      "cell_type": "code",
      "execution_count": 66,
      "metadata": {
        "id": "XI-wgHWMLgjm"
      },
      "outputs": [],
      "source": [
        "newNode = Node()\n",
        "newNode.data = '파주'\n",
        "newNode.link = head\n",
        "head = newNode\n"
      ]
    },
    {
      "cell_type": "code",
      "execution_count": 67,
      "metadata": {
        "id": "2cRfORi-Lgjm",
        "outputId": "db56571f-f84a-4420-f21d-546446a3dee7",
        "colab": {
          "base_uri": "https://localhost:8080/"
        }
      },
      "outputs": [
        {
          "output_type": "stream",
          "name": "stdout",
          "text": [
            "파주 서울 대구 포항 부산 "
          ]
        }
      ],
      "source": [
        "current = head    # current 노드 지정\n",
        "print(current.data, end = ' ')\n",
        "while current.link != None:     # current의 링크가 없을때 까지 반복\n",
        "    current = current.link             # 현재 노드의 다음노드가 current로 지정\n",
        "    print(current.data, end= ' ')  # current의 데이터 출력"
      ]
    },
    {
      "cell_type": "markdown",
      "metadata": {
        "id": "RkqYInhJLgjn"
      },
      "source": [
        "- 마지막 자리에 데이터 삽입"
      ]
    },
    {
      "cell_type": "code",
      "execution_count": 68,
      "metadata": {
        "id": "t0auqNSTLgjn"
      },
      "outputs": [],
      "source": [
        "current = head\n",
        "while current.link != None:     # current의 링크가 없을때 까지 반복\n",
        "    current = current.link             # 현재 노드의 다음노드가 current로 지정\n",
        "\n",
        "node = Node()\n",
        "node.data = \"제주\"\n",
        "current.link = node"
      ]
    },
    {
      "cell_type": "code",
      "execution_count": 69,
      "metadata": {
        "id": "h4h_lfuvLgjn",
        "outputId": "a325b76a-2f17-4dcc-fe8a-92f404b2f94a",
        "colab": {
          "base_uri": "https://localhost:8080/"
        }
      },
      "outputs": [
        {
          "output_type": "stream",
          "name": "stdout",
          "text": [
            "파주 서울 대구 포항 부산 제주 "
          ]
        }
      ],
      "source": [
        "current = head    # current 노드 지정\n",
        "print(current.data, end = ' ')\n",
        "while current.link != None:     # current의 링크가 없을때 까지 반복\n",
        "    current = current.link             # 현재 노드의 다음노드가 current로 지정\n",
        "    print(current.data, end= ' ')  # current의 데이터 출력"
      ]
    },
    {
      "cell_type": "markdown",
      "metadata": {
        "id": "5Re2ikW9Lgjn"
      },
      "source": [
        "- 데이터 삭제 : 첫번째 노드 삭제"
      ]
    },
    {
      "cell_type": "code",
      "execution_count": 70,
      "metadata": {
        "id": "3a0d4K5VLgjn"
      },
      "outputs": [],
      "source": [
        "current = head\n",
        "head = head.link\n",
        "del(current)"
      ]
    },
    {
      "cell_type": "code",
      "execution_count": 71,
      "metadata": {
        "id": "I47V5QvmLgjo",
        "outputId": "6844a719-8679-497a-f7fc-595eb457e86f",
        "colab": {
          "base_uri": "https://localhost:8080/"
        }
      },
      "outputs": [
        {
          "output_type": "stream",
          "name": "stdout",
          "text": [
            "서울 대구 포항 부산 제주 "
          ]
        }
      ],
      "source": [
        "current = head    # current 노드 지정\n",
        "print(current.data, end = ' ')\n",
        "while current.link != None:     # current의 링크가 없을때 까지 반복\n",
        "    current = current.link             # 현재 노드의 다음노드가 current로 지정\n",
        "    print(current.data, end= ' ')  # current의 데이터 출력"
      ]
    },
    {
      "cell_type": "markdown",
      "metadata": {
        "id": "v3SD072QLgjo"
      },
      "source": [
        "- 첫번째 노드 외 삭제"
      ]
    },
    {
      "cell_type": "code",
      "execution_count": 79,
      "metadata": {
        "id": "PBCIsvXwLgjo"
      },
      "outputs": [],
      "source": [
        "current = head\n",
        "\n",
        "while current.link != None:\n",
        "    pre = current\n",
        "    current = current.link\n",
        "    if current.data == \"대구\":\n",
        "        pre.link = current.link\n",
        "        del(current)"
      ]
    },
    {
      "cell_type": "code",
      "execution_count": 81,
      "metadata": {
        "id": "rQx7P20YLgjo",
        "outputId": "41a8f738-75f5-4c91-c77b-6eb995873a79",
        "colab": {
          "base_uri": "https://localhost:8080/"
        }
      },
      "outputs": [
        {
          "output_type": "stream",
          "name": "stdout",
          "text": [
            "current =  <__main__.Node object at 0x7fd62c965bd0>\n",
            "current =  <__main__.Node object at 0x7fd62c965bd0>\n",
            "서울 포항 부산 제주 "
          ]
        }
      ],
      "source": [
        "current = head\n",
        "print(\"current = \", current)\n",
        "print(\"current = \", current)\n",
        "print(current.data, end = ' ')\n",
        "while current.link != None:     # current의 링크가 없을때 까지 반복\n",
        "    current = current.link             # 현재 노드의 다음노드가 current로 지정\n",
        "    print(current.data, end= ' ')  # current의 데이터 출력"
      ]
    },
    {
      "cell_type": "markdown",
      "metadata": {
        "id": "7lc9w2MNLgjo"
      },
      "source": [
        "- 데이터 검색 구현"
      ]
    },
    {
      "cell_type": "code",
      "execution_count": 84,
      "metadata": {
        "id": "ttL4C2rWLgjp"
      },
      "outputs": [],
      "source": [
        "current = head\n",
        "if current.data == '대구':\n",
        "    print(current.data)\n",
        "while current.link !=None:\n",
        "    current = current.link\n",
        "    if current.data == '대구':\n",
        "        print(current.data)\n"
      ]
    },
    {
      "cell_type": "markdown",
      "metadata": {
        "id": "-QU58bshLgjp"
      },
      "source": [
        "- 연결 리스트를 함수로 구현하기"
      ]
    },
    {
      "cell_type": "code",
      "execution_count": 85,
      "metadata": {
        "id": "ZBp_IIwPLgjp"
      },
      "outputs": [],
      "source": [
        "\n",
        "\n",
        "class Node() :\n",
        "\tdef __init__ (self) :\n",
        "\t\tself.data = None\n",
        "\t\tself.link = None\n",
        "\n",
        "def printNodes(start) :\n",
        "\tcurrent = start\n",
        "\tif current == None :\n",
        "\t\treturn\n",
        "\tprint(current.data, end = ' ')\n",
        "\twhile current.link != None:\n",
        "\t\tcurrent = current.link\n",
        "\t\tprint(current.data, end = ' ')\n",
        "\tprint()\n",
        "\n",
        "def insertNode(findData, insertData) :\n",
        "\tglobal memory, head, current, pre\n",
        "\tif head.data == findData :      # 첫 번째 노드 삽입\n",
        "\t\tnode = Node()\n",
        "\t\tnode.data = insertData\n",
        "\t\tnode.link = head\n",
        "\t\thead = node\n",
        "\t\treturn\n",
        "\n",
        "\tcurrent = head\n",
        "\twhile current.link != None :    # 중간 노드 삽입\n",
        "\t\tpre = current\n",
        "\t\tcurrent = current.link\n",
        "\t\tif current.data == findData :\n",
        "\t\t\tnode = Node()\n",
        "\t\t\tnode.data = insertData\n",
        "\t\t\tnode.link = current\n",
        "\t\t\tpre.link = node\n",
        "\t\t\treturn\n",
        "\n",
        "\tnode = Node()                   # 마지막 노드 삽입\n",
        "\tnode.data = insertData\n",
        "\tcurrent.link = node\n",
        "\n",
        "def findNode(findData) :\n",
        "\tglobal memory, head, current, pre\n",
        "\n",
        "\tcurrent = head\n",
        "\tif current.data == findData :\n",
        "\t\treturn current\n",
        "\twhile current.link != None :\n",
        "\t\tcurrent = current.link\n",
        "\t\tif current.data == findData :\n",
        "\t\t\treturn current\n",
        "\treturn Node()\t# 빈 노드 반환\n",
        "\n",
        "def deleteNode(deleteData) :\n",
        "\tglobal memory, head, current, pre\n",
        "\n",
        "\tif head.data == deleteData :         # 첫 번째 노드 삭제\n",
        "\t\tcurrent = head\n",
        "\t\thead = head.link\n",
        "\t\tdel(current)\n",
        "\t\treturn\n",
        "\n",
        "\tcurrent = head                          # 첫 번째  외 노드 삭제\n",
        "\twhile current.link != None :\n",
        "\t\tpre = current\n",
        "\t\tcurrent = current.link\n",
        "\t\tif current.data == deleteData :\n",
        "\t\t\tpre.link = current.link\n",
        "\t\t\tdel(current)\n",
        "\t\t\treturn"
      ]
    },
    {
      "cell_type": "code",
      "execution_count": 88,
      "metadata": {
        "id": "8s7R92RSLgjp",
        "outputId": "ac6e029a-e82c-4c78-9ad0-52abcc4241af",
        "colab": {
          "base_uri": "https://localhost:8080/"
        }
      },
      "outputs": [
        {
          "output_type": "stream",
          "name": "stdout",
          "text": [
            "서울 대전 부산 \n",
            "파주 서울 천안 대전 부산 \n"
          ]
        }
      ],
      "source": [
        "head, current, pre = None, None, None\n",
        "memory = []\n",
        "dataArray = [\"서울\", \"대전\", \"부산\"]\n",
        "\n",
        "node = Node()\t\t\t# 첫 번째 노드\n",
        "node.data = dataArray[0]\n",
        "head = node\n",
        "memory.append(node)\n",
        "\n",
        "\n",
        "for data in dataArray[1:] :\t\t# 두 번째 노드부터\n",
        "    pre = node\n",
        "    node = Node()\n",
        "    node.data = data\n",
        "    pre.link = node\n",
        "    memory.append(node)\n",
        "\n",
        "\n",
        "printNodes(head)\n",
        "insertNode('대전','천안')\n",
        "insertNode('서울','파주')\n",
        "printNodes(head)\n",
        "\n",
        "\n"
      ]
    },
    {
      "cell_type": "code",
      "source": [
        "deleteNode('천안')\n",
        "printNodes(head)"
      ],
      "metadata": {
        "colab": {
          "base_uri": "https://localhost:8080/"
        },
        "id": "USNNcxXdVvuS",
        "outputId": "2cdd8c73-a5a5-4aa8-90e6-fcc8441487fe"
      },
      "execution_count": 89,
      "outputs": [
        {
          "output_type": "stream",
          "name": "stdout",
          "text": [
            "파주 서울 대전 부산 \n"
          ]
        }
      ]
    }
  ],
  "metadata": {
    "colab": {
      "collapsed_sections": [],
      "name": "python_practice-4th-week.ipynb",
      "provenance": [],
      "include_colab_link": true
    },
    "kernelspec": {
      "display_name": "Python 3",
      "name": "python3"
    },
    "language_info": {
      "codemirror_mode": {
        "name": "ipython",
        "version": 3
      },
      "file_extension": ".py",
      "mimetype": "text/x-python",
      "name": "python",
      "nbconvert_exporter": "python",
      "pygments_lexer": "ipython3",
      "version": "3.9.4"
    }
  },
  "nbformat": 4,
  "nbformat_minor": 0
}